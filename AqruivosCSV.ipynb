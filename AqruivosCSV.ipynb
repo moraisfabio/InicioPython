{
 "cells": [
  {
   "cell_type": "code",
   "execution_count": 1,
   "metadata": {},
   "outputs": [],
   "source": [
    "#importar o pacote csv\n",
    "\n",
    "import csv"
   ]
  },
  {
   "cell_type": "code",
   "execution_count": 6,
   "metadata": {},
   "outputs": [],
   "source": [
    "#abrir arquivo csv\n",
    "with open(\"arquivos/numeros.csv\", \"w\") as arquivo:\n",
    "    writer = csv.writer(arquivo)\n",
    "    writer.writerow((\"primeira\",\"segunda\",\"terceira\"))\n",
    "    writer.writerow((55.93,76))\n",
    "    writer.writerow((62,14,86))"
   ]
  },
  {
   "cell_type": "code",
   "execution_count": 7,
   "metadata": {},
   "outputs": [
    {
     "name": "stdout",
     "output_type": "stream",
     "text": [
      "numero de colunas:  3\n",
      "['primeira', 'segunda', 'terceira']\n",
      "numero de colunas:  0\n",
      "[]\n",
      "numero de colunas:  2\n",
      "['55.93', '76']\n",
      "numero de colunas:  0\n",
      "[]\n",
      "numero de colunas:  3\n",
      "['62', '14', '86']\n",
      "numero de colunas:  0\n",
      "[]\n"
     ]
    }
   ],
   "source": [
    "#ler o arquivo csv\n",
    "with open(\"arquivos/numeros.csv\", \"r\") as arquivo:\n",
    "    leitor = csv.reader(arquivo)\n",
    "    for x in leitor:\n",
    "        print(\"numero de colunas: \",len(x))\n",
    "        print(x)"
   ]
  },
  {
   "cell_type": "code",
   "execution_count": 9,
   "metadata": {},
   "outputs": [
    {
     "name": "stdout",
     "output_type": "stream",
     "text": [
      "[['primeira', 'segunda', 'terceira'], [], ['55.93', '76'], [], ['62', '14', '86'], []]\n"
     ]
    }
   ],
   "source": [
    "#gerar lista com dados do arquivo csv\n",
    "with open(\"arquivos/numeros.csv\", \"r\") as arquivo:\n",
    "    leitor = csv.reader(arquivo)\n",
    "    dados = list(leitor)\n",
    "\n",
    "print(dados)"
   ]
  },
  {
   "cell_type": "code",
   "execution_count": 13,
   "metadata": {},
   "outputs": [
    {
     "name": "stdout",
     "output_type": "stream",
     "text": [
      "[]\n",
      "['55.93', '76']\n",
      "[]\n",
      "['62', '14', '86']\n",
      "[]\n"
     ]
    }
   ],
   "source": [
    "#imprimindo a partir da segunda linha\n",
    "for linha in dados[1:]:\n",
    "    print(linha)"
   ]
  },
  {
   "cell_type": "code",
   "execution_count": null,
   "metadata": {},
   "outputs": [],
   "source": []
  }
 ],
 "metadata": {
  "kernelspec": {
   "display_name": "Python 3",
   "language": "python",
   "name": "python3"
  },
  "language_info": {
   "codemirror_mode": {
    "name": "ipython",
    "version": 3
   },
   "file_extension": ".py",
   "mimetype": "text/x-python",
   "name": "python",
   "nbconvert_exporter": "python",
   "pygments_lexer": "ipython3",
   "version": "3.7.0"
  }
 },
 "nbformat": 4,
 "nbformat_minor": 2
}
