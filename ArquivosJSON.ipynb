{
 "cells": [
  {
   "cell_type": "code",
   "execution_count": 8,
   "metadata": {},
   "outputs": [],
   "source": [
    "#Manipulando arquivos JSON\n",
    "#criando dicionario\n",
    "dict = {'nome':'Fabio',\n",
    "        'linguagem': 'Python',\n",
    "       'similar': [\"c\",\"modula-3\",\"lisp\"],\n",
    "       'users': 1000000}"
   ]
  },
  {
   "cell_type": "code",
   "execution_count": 9,
   "metadata": {},
   "outputs": [
    {
     "name": "stdout",
     "output_type": "stream",
     "text": [
      "nome Fabio\n",
      "linguagem Python\n",
      "similar ['c', 'modula-3', 'lisp']\n",
      "users 1000000\n"
     ]
    }
   ],
   "source": [
    "#imprimir dicionario\n",
    "for k,v in dict.items():\n",
    "    print(k,v)"
   ]
  },
  {
   "cell_type": "code",
   "execution_count": 10,
   "metadata": {},
   "outputs": [],
   "source": [
    "#importando Json\n",
    "import json"
   ]
  },
  {
   "cell_type": "code",
   "execution_count": 11,
   "metadata": {},
   "outputs": [
    {
     "data": {
      "text/plain": [
       "'{\"nome\": \"Fabio\", \"linguagem\": \"Python\", \"similar\": [\"c\", \"modula-3\", \"lisp\"], \"users\": 1000000}'"
      ]
     },
     "execution_count": 11,
     "metadata": {},
     "output_type": "execute_result"
    }
   ],
   "source": [
    "#convertendo o dicionario para um objeto json\n",
    "json.dumps(dict)"
   ]
  },
  {
   "cell_type": "code",
   "execution_count": 12,
   "metadata": {},
   "outputs": [],
   "source": [
    "#criando um arquivo Json\n",
    "with open(\"arquivos/dados.json\", \"w\") as arquivo:\n",
    "    arquivo.write(json.dumps(dict))"
   ]
  },
  {
   "cell_type": "code",
   "execution_count": 13,
   "metadata": {},
   "outputs": [],
   "source": [
    "#leitura do arquivo json\n",
    "with open(\"arquivos/dados.json\", \"r\") as arquivo:\n",
    "    texto = arquivo.read()\n",
    "    data = json.loads(texto)"
   ]
  },
  {
   "cell_type": "code",
   "execution_count": 14,
   "metadata": {},
   "outputs": [
    {
     "name": "stdout",
     "output_type": "stream",
     "text": [
      "{'nome': 'Fabio', 'linguagem': 'Python', 'similar': ['c', 'modula-3', 'lisp'], 'users': 1000000}\n"
     ]
    }
   ],
   "source": [
    "print(data)"
   ]
  },
  {
   "cell_type": "code",
   "execution_count": 16,
   "metadata": {},
   "outputs": [
    {
     "name": "stdout",
     "output_type": "stream",
     "text": [
      "Python\n"
     ]
    }
   ],
   "source": [
    "print(data[\"linguagem\"])"
   ]
  },
  {
   "cell_type": "code",
   "execution_count": 20,
   "metadata": {},
   "outputs": [],
   "source": [
    "#imprimindo um arquivo json copiado da internet\n",
    "from urllib.request import urlopen\n",
    "response = urlopen(\"http://vimeo.com/api/v2/video/57733101.json\").read().decode(\"utf8\")\n",
    "data = json.loads(response)[0]"
   ]
  },
  {
   "cell_type": "code",
   "execution_count": 21,
   "metadata": {},
   "outputs": [
    {
     "name": "stdout",
     "output_type": "stream",
     "text": [
      "Titulos: The Good Man trailer\n",
      "URL: https://vimeo.com/57733101\n",
      "Duaracao: 143\n",
      "Numero de visualizacoes: 5618\n"
     ]
    }
   ],
   "source": [
    "print('Titulos:', data[\"title\"])\n",
    "print(\"URL:\", data[\"url\"])\n",
    "print(\"Duaracao:\", data[\"duration\"])\n",
    "print(\"Numero de visualizacoes:\", data['stats_number_of_plays'])"
   ]
  },
  {
   "cell_type": "code",
   "execution_count": 23,
   "metadata": {},
   "outputs": [],
   "source": [
    "#copiando o conteudo de um arquivo para outro\n",
    "import os\n",
    "\n",
    "arquivo_fonte = \"arquivos/dados.json\"\n",
    "arquivo_destino = \"arquivos/json_data.txt\""
   ]
  },
  {
   "cell_type": "code",
   "execution_count": 25,
   "metadata": {},
   "outputs": [],
   "source": [
    "#metodo\n",
    "with open(arquivo_fonte,'r') as infile:\n",
    "    text = infile.read()\n",
    "    with open(arquivo_destino, 'w') as outfile:\n",
    "        outfile.write(text)"
   ]
  },
  {
   "cell_type": "code",
   "execution_count": 26,
   "metadata": {},
   "outputs": [
    {
     "data": {
      "text/plain": [
       "96"
      ]
     },
     "execution_count": 26,
     "metadata": {},
     "output_type": "execute_result"
    }
   ],
   "source": [
    "#metodo 2\n",
    "open(arquivo_destino,'w').write(open(arquivo_fonte,'r').read())"
   ]
  },
  {
   "cell_type": "code",
   "execution_count": 27,
   "metadata": {},
   "outputs": [],
   "source": [
    "#leitura do arquivo json\n",
    "with open(\"arquivos/json_data.txt\", 'r') as arquivo:\n",
    "    texto = arquivo.read()\n",
    "    data = json.loads(texto)\n"
   ]
  },
  {
   "cell_type": "code",
   "execution_count": 28,
   "metadata": {},
   "outputs": [
    {
     "name": "stdout",
     "output_type": "stream",
     "text": [
      "{'nome': 'Fabio', 'linguagem': 'Python', 'similar': ['c', 'modula-3', 'lisp'], 'users': 1000000}\n"
     ]
    }
   ],
   "source": [
    "print(data)"
   ]
  },
  {
   "cell_type": "code",
   "execution_count": null,
   "metadata": {},
   "outputs": [],
   "source": []
  }
 ],
 "metadata": {
  "kernelspec": {
   "display_name": "Python 3",
   "language": "python",
   "name": "python3"
  },
  "language_info": {
   "codemirror_mode": {
    "name": "ipython",
    "version": 3
   },
   "file_extension": ".py",
   "mimetype": "text/x-python",
   "name": "python",
   "nbconvert_exporter": "python",
   "pygments_lexer": "ipython3",
   "version": "3.7.0"
  }
 },
 "nbformat": 4,
 "nbformat_minor": 2
}
