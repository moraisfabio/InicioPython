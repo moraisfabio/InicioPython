{
 "cells": [
  {
   "cell_type": "code",
   "execution_count": 1,
   "metadata": {},
   "outputs": [
    {
     "name": "stdout",
     "output_type": "stream",
     "text": [
      "O valor e maior!\n"
     ]
    }
   ],
   "source": [
    "#condicional if\n",
    "if 5 > 2:\n",
    "    print('O valor e maior!')"
   ]
  },
  {
   "cell_type": "code",
   "execution_count": 2,
   "metadata": {},
   "outputs": [
    {
     "name": "stdout",
     "output_type": "stream",
     "text": [
      "Menor!\n"
     ]
    }
   ],
   "source": [
    "if 2 > 5:\n",
    "    print('maior!')\n",
    "else:\n",
    "    print('Menor!')"
   ]
  },
  {
   "cell_type": "code",
   "execution_count": 6,
   "metadata": {},
   "outputs": [
    {
     "name": "stdout",
     "output_type": "stream",
     "text": [
      "Hoje fara sol!\n"
     ]
    }
   ],
   "source": [
    "#condicional elif\n",
    "dia = 'segunda'\n",
    "if dia == 'segunda':\n",
    "    print('Hoje fara sol!')\n",
    "else:\n",
    "    print('Chovera!')"
   ]
  },
  {
   "cell_type": "code",
   "execution_count": 7,
   "metadata": {},
   "outputs": [
    {
     "name": "stdout",
     "output_type": "stream",
     "text": [
      "Vai fazer frio!\n"
     ]
    }
   ],
   "source": [
    "if dia == 'terca':\n",
    "    print('Vai fazer sol!')\n",
    "elif dia == 'segunda':\n",
    "    print('Vai fazer frio!')\n",
    "else:\n",
    "    print('Sera chuva!')"
   ]
  },
  {
   "cell_type": "code",
   "execution_count": null,
   "metadata": {},
   "outputs": [],
   "source": []
  }
 ],
 "metadata": {
  "kernelspec": {
   "display_name": "Python 3",
   "language": "python",
   "name": "python3"
  },
  "language_info": {
   "codemirror_mode": {
    "name": "ipython",
    "version": 3
   },
   "file_extension": ".py",
   "mimetype": "text/x-python",
   "name": "python",
   "nbconvert_exporter": "python",
   "pygments_lexer": "ipython3",
   "version": "3.7.0"
  }
 },
 "nbformat": 4,
 "nbformat_minor": 2
}
